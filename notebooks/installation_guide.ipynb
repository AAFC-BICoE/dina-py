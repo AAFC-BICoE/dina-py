{
 "cells": [
  {
   "cell_type": "markdown",
   "metadata": {},
   "source": [
    "# dina-py Library Tutorial\n",
    "\n",
    "This notebook demonstrates how to use the dina-py Python library for interacting with DINA.\n",
    "\n",
    "# 🛠 Installation Guide\n",
    "\n",
    "This notebook walks you through setting up your environment and installing the `dinapy` library for use in Jupyter Notebooks."
   ]
  },
  {
   "cell_type": "markdown",
   "metadata": {},
   "source": [
    "# Manual Setup (outside the notebook)\n",
    "\n",
    "## ✅ Step 1: Make sure to have Python 3.10 or newer\n",
    "\n",
    "## ✅ Step 2: Create a Virtual Environment\n",
    "\n",
    "Run the following command in your TERMINAL (NOT Jupyter notebook):"
   ]
  },
  {
   "cell_type": "code",
   "execution_count": null,
   "metadata": {},
   "outputs": [],
   "source": [
    "python -m venv env"
   ]
  },
  {
   "cell_type": "markdown",
   "metadata": {},
   "source": [
    "\n",
    "### 🔹 Activate the Environment\n",
    "\n",
    "- **Windows:**\n"
   ]
  },
  {
   "cell_type": "code",
   "execution_count": null,
   "metadata": {},
   "outputs": [],
   "source": [
    ".\\env\\Scripts\\activate"
   ]
  },
  {
   "cell_type": "markdown",
   "metadata": {},
   "source": [
    "- **macOS/Linux:**"
   ]
  },
  {
   "cell_type": "code",
   "execution_count": null,
   "metadata": {},
   "outputs": [],
   "source": [
    "source env/bin/activate"
   ]
  },
  {
   "cell_type": "markdown",
   "metadata": {},
   "source": [
    "## ✅ Step 3: Install `ipykernel`\n",
    "\n",
    "ipykernel is needed to run code in the jupyter notebook\n",
    "\n",
    "Run the following in your terminal:"
   ]
  },
  {
   "cell_type": "code",
   "execution_count": null,
   "metadata": {},
   "outputs": [],
   "source": [
    "pip install ipykernel"
   ]
  },
  {
   "cell_type": "markdown",
   "metadata": {},
   "source": [
    "## ✅ Step 4: Install `dinapy`\n",
    "\n",
    "### From Git (branch) — works in Jupyter or terminal\n",
    "If on Jupyter notebook, just run the cell below:"
   ]
  },
  {
   "cell_type": "code",
   "execution_count": null,
   "metadata": {},
   "outputs": [],
   "source": [
    "# Start clean: remove any previously installed dinapy\n",
    "%pip uninstall -y dinapy\n",
    "\n",
    "# Equivalent to your original, but more resilient parsing for extras:\n",
    "%pip install \"dinapy[notebook] @ git+https://github.com/AAFC-BICoE/dina-py.git@Support_36999_jupyter_notebook_test\""
   ]
  },
  {
   "cell_type": "markdown",
   "metadata": {},
   "source": [
    "## ✅ Step 4: Launch Jupyter Notebook\n",
    "\n",
    "You can now launch Jupyter Notebook server with the following command in your TERMINAL:"
   ]
  },
  {
   "cell_type": "code",
   "execution_count": null,
   "metadata": {},
   "outputs": [],
   "source": [
    "jupyter notebook"
   ]
  },
  {
   "cell_type": "markdown",
   "metadata": {},
   "source": [
    "## Import the Library\n",
    "\n",
    "Let's import the dina-py library here and check if it's working."
   ]
  },
  {
   "cell_type": "code",
   "execution_count": null,
   "metadata": {},
   "outputs": [],
   "source": [
    "# Import dina-py\n",
    "from importlib.metadata import version, PackageNotFoundError\n",
    "\n",
    "try:\n",
    "    import dinapy\n",
    "    print(f\"dina-py successfully imported!\")\n",
    "\n",
    "    try:\n",
    "        print(\"Version:\", version(\"dinapy\"))\n",
    "    except PackageNotFoundError:\n",
    "        print(\"Version: Unknown (package not installed)\")\n",
    "except ImportError as e:\n",
    "    print(f\"Error importing dina-py: {e}\")\n",
    "    print(\"Please install it using: pip install dina-py\")"
   ]
  },
  {
   "cell_type": "markdown",
   "metadata": {},
   "source": [
    "## Configuration\n",
    "\n",
    "Set up .env variables with ipywidgets\n"
   ]
  },
  {
   "cell_type": "code",
   "execution_count": null,
   "metadata": {},
   "outputs": [],
   "source": [
    "%pip install python-dotenv ipywidgets"
   ]
  },
  {
   "cell_type": "code",
   "execution_count": null,
   "metadata": {},
   "outputs": [],
   "source": [
    "import os\n",
    "import ipywidgets as widgets\n",
    "from IPython.display import display\n",
    "\n",
    "# Create input widgets\n",
    "username = widgets.Text(value='', placeholder='dina-admin', description='Username:')\n",
    "password = widgets.Password(value='', placeholder='dina-admin', description='Password:')\n",
    "domain = widgets.Text(value='', placeholder='dina-dev2.biodiversity.agr.gc.ca', description='Keycloak Domain:', layout=widgets.Layout(width='600px'))\n",
    "\n",
    "# Output widget\n",
    "output = widgets.Output()\n",
    "\n",
    "# Button widget\n",
    "set_button = widgets.Button(\n",
    "    description=\"Set and Save Environment Variables\",\n",
    "    button_style='success',\n",
    "    layout=widgets.Layout(width='auto', height='40px')\n",
    ")\n",
    "\n",
    "# Function to run on button click\n",
    "def on_button_click(b):\n",
    "    keycloak_url = f\"https://{domain.value.strip()}\"\n",
    "\n",
    "    os.environ[\"KEYCLOAK_USERNAME\"] = username.value\n",
    "    os.environ[\"KEYCLOAK_PASSWORD\"] = password.value\n",
    "    os.environ[\"DINA_API_BASE_URL\"] = \"dina.local\"\n",
    "    os.environ[\"KEYCLOAK_URL\"] = keycloak_url\n",
    "    os.environ[\"CLIENT_ID\"] = \"dina-public\"\n",
    "    os.environ[\"REALM_NAME\"] = \"dina\"\n",
    "    os.environ[\"SECURE\"] = \"true\"\n",
    "\n",
    "    with open(\".env\", \"w\") as f:\n",
    "        f.write(f\"KEYCLOAK_USERNAME={username.value}\\n\")\n",
    "        f.write(f\"KEYCLOAK_PASSWORD={password.value}\\n\")\n",
    "        f.write(f\"DINA_API_BASE_URL=dina.local\\n\")\n",
    "        f.write(f\"KEYCLOAK_URL={keycloak_url}\\n\")\n",
    "        f.write(f\"CLIENT_ID=dina-public\\n\")\n",
    "        f.write(f\"REALM_NAME=dina\\n\")\n",
    "        f.write(f\"SECURE=true\\n\")\n",
    "\n",
    "    with output:\n",
    "        output.clear_output()\n",
    "        print(\"✅ Environment variables set and saved to .env file.\")\n",
    "\n",
    "# Bind button to function\n",
    "set_button.on_click(on_button_click)\n",
    "\n",
    "# Display widgets and button\n",
    "display(username, password, domain, set_button, output)"
   ]
  },
  {
   "cell_type": "markdown",
   "metadata": {},
   "source": [
    "### Jupyter Cell to Install SSL Certificate from KEYCLOAK_URL\n"
   ]
  },
  {
   "cell_type": "code",
   "execution_count": null,
   "metadata": {},
   "outputs": [],
   "source": [
    "import os\n",
    "import subprocess\n",
    "import certifi\n",
    "from urllib.parse import urlparse\n",
    "\n",
    "# Ensure KEYCLOAK_URL is set\n",
    "keycloak_url = os.environ.get(\"KEYCLOAK_URL\")\n",
    "if not keycloak_url:\n",
    "    raise ValueError(\"KEYCLOAK_URL environment variable is not set.\")\n",
    "\n",
    "# Extract hostname from URL\n",
    "parsed_url = urlparse(keycloak_url)\n",
    "hostname = parsed_url.hostname\n",
    "if not hostname:\n",
    "    raise ValueError(\"Invalid KEYCLOAK_URL format.\")\n",
    "\n",
    "# Define file paths\n",
    "certs_txt = \"certs.txt\"\n",
    "combined_cert = \"combined-cert.crt\"\n",
    "certifi_path = certifi.where()\n",
    "\n",
    "# Run openssl to get the certificate and extract it using awk\n",
    "subprocess.run(f\"openssl s_client -connect {hostname}:443 -showcerts < /dev/null > {certs_txt}\", shell=True, check=True)\n",
    "subprocess.run(f\"awk '/-----BEGIN CERTIFICATE-----/,/-----END CERTIFICATE-----/' {certs_txt} > {combined_cert}\", shell=True, check=True)\n",
    "\n",
    "# Append the certificate to certifi's CA bundle\n",
    "with open(certifi_path, \"ab\") as ca_bundle, open(combined_cert, \"rb\") as new_cert:\n",
    "    ca_bundle.write(b\"\\n\")\n",
    "    ca_bundle.write(new_cert.read())\n",
    "\n",
    "print(f\"✅ Certificate from {hostname} added to certifi store at {certifi_path}.\")"
   ]
  },
  {
   "cell_type": "markdown",
   "metadata": {},
   "source": [
    "## Simple test using .env"
   ]
  },
  {
   "cell_type": "code",
   "execution_count": null,
   "metadata": {},
   "outputs": [],
   "source": [
    "from dinapy.apis.collectionapi.managedattributesapi import ManagedAttributeAPI\n",
    "import requests\n",
    " \n",
    "dina_managed_attribute_api = ManagedAttributeAPI()\n",
    " \n",
    "print(requests.get(\"https://dina.local\").status_code)\n",
    "response = dina_managed_attribute_api.get_entity(\"019a020c-2864-72d8-90f9-82e964422620\")\n",
    "print(\"Fetched Entity:\", response.json()[\"data\"])"
   ]
  },
  {
   "cell_type": "markdown",
   "metadata": {},
   "source": [
    "## Example: Create a New Record\n",
    "\n",
    "Create a new record in DINA (adjust according to your data model)."
   ]
  },
  {
   "cell_type": "code",
   "execution_count": null,
   "metadata": {},
   "outputs": [],
   "source": [
    "from dinapy.apis.collectionapi.managedattributesapi import ManagedAttributeAPI\n",
    "from dinapy.entities.ManagedAttribute import ManagedAttributesDTOBuilder,ManagedAttributeAttributesDTOBuilder\n",
    "from dinapy.schemas.managedattributeschema import ManagedAttributesSchema\n",
    "\n",
    "def main():\n",
    " dina_managed_attribute_api = ManagedAttributeAPI()\n",
    " for i in range(1, 16):\n",
    "  # Build the attribute DTO\n",
    "  managed_attribute_attributes = (\n",
    "   ManagedAttributeAttributesDTOBuilder()\n",
    "   .name(f\"test attributes{i}\")\n",
    "   .vocabularyElementType(\"STRING\")\n",
    "   .group(\"aafc\")\n",
    "   .managedAttributeComponent(\"MATERIAL_SAMPLE\")\n",
    "   .build()\n",
    "  )\n",
    "\n",
    "  # Wrap it in the managed attribute DTO\n",
    "  managed_attribute = ManagedAttributesDTOBuilder().attributes(managed_attribute_attributes).build()\n",
    "\n",
    "  # Serialize using schema\n",
    "  managed_attribute_schema = ManagedAttributesSchema()\n",
    "  serialized_managed_attribute = managed_attribute_schema.dump(managed_attribute)\n",
    "\n",
    "  # Send to API\n",
    "  response = dina_managed_attribute_api.create_entity(serialized_managed_attribute)\n",
    "\n",
    "  # Print the resulting IDs\n",
    "  print(response.json()['data']['id'])\n",
    "\n",
    "if __name__ == '__main__':\n",
    " main()"
   ]
  },
  {
   "cell_type": "markdown",
   "metadata": {},
   "source": [
    "## Sample Helper Functions\n",
    "\n",
    "Here are some helper functions that might be useful when working with dina-py."
   ]
  },
  {
   "cell_type": "code",
   "execution_count": null,
   "metadata": {},
   "outputs": [],
   "source": [
    "import pandas as pd\n",
    "import json\n",
    "\n",
    "def display_records_as_dataframe(records):\n",
    "    \"\"\"Convert DINA records to a pandas DataFrame for easier viewing\"\"\"\n",
    "    if not records:\n",
    "        print(\"No records to display\")\n",
    "        return None\n",
    "    \n",
    "    df = pd.DataFrame(records)\n",
    "    return df\n",
    "\n",
    "def pretty_print_json(data):\n",
    "    \"\"\"Pretty print JSON data\"\"\"\n",
    "    print(json.dumps(data, indent=2))\n",
    "\n",
    "print(\"Helper functions loaded!\")"
   ]
  },
  {
   "cell_type": "markdown",
   "metadata": {},
   "source": [
    "## Your Custom Code\n",
    "\n",
    "Use the cells below to write your own code using dina-py."
   ]
  },
  {
   "cell_type": "code",
   "execution_count": null,
   "metadata": {},
   "outputs": [],
   "source": [
    "# Your code here\n"
   ]
  },
  {
   "cell_type": "markdown",
   "metadata": {},
   "source": [
    "## Resources\n",
    "\n",
    "- [DINA Documentation](https://dina-project.github.io/)\n",
    "- [dina-py GitHub Repository](https://github.com/DINA-Web/dina-py)\n",
    "- [DINA API Documentation](https://api.dina-project.net/)\n",
    "\n",
    "## Notes\n",
    "\n",
    "- Make sure to replace placeholder values with your actual DINA instance credentials\n",
    "- The exact methods and parameters may vary depending on the version of dina-py you're using\n",
    "- Always refer to the official documentation for the most up-to-date information\n",
    "- Be careful with credentials - consider using environment variables for sensitive information"
   ]
  }
 ],
 "metadata": {
  "kernelspec": {
   "display_name": "dinapy",
   "language": "python",
   "name": "python3"
  },
  "language_info": {
   "codemirror_mode": {
    "name": "ipython",
    "version": 3
   },
   "file_extension": ".py",
   "mimetype": "text/x-python",
   "name": "python",
   "nbconvert_exporter": "python",
   "pygments_lexer": "ipython3",
   "version": "3.13.7"
  }
 },
 "nbformat": 4,
 "nbformat_minor": 4
}
