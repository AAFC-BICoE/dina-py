{
 "cells": [
  {
   "cell_type": "markdown",
   "metadata": {},
   "source": [
    "# dina-py Library Tutorial\n",
    "\n",
    "This notebook demonstrates how to use the dina-py Python library for interacting with DINA.\n",
    "\n",
    "# 🛠 Installation Guide\n",
    "\n",
    "This notebook walks you through setting up your environment and installing the `dinapy` library for use in Jupyter Notebooks."
   ]
  },
  {
   "cell_type": "markdown",
   "metadata": {},
   "source": [
    "# Manual Setup (outside the notebook)\n",
    "\n",
    "## ✅ Step 1: Make sure to have Python 3.10 or newer\n",
    "\n",
    "## ✅ Step 2: Create a Virtual Environment\n",
    "\n",
    "Run the following command in your TERMINAL (NOT Jupyter notebook):"
   ]
  },
  {
   "cell_type": "code",
   "execution_count": null,
   "metadata": {},
   "outputs": [],
   "source": [
    "python -m venv env"
   ]
  },
  {
   "cell_type": "markdown",
   "metadata": {},
   "source": [
    "\n",
    "### 🔹 Activate the Environment\n",
    "\n",
    "- **Windows:**\n"
   ]
  },
  {
   "cell_type": "code",
   "execution_count": null,
   "metadata": {},
   "outputs": [],
   "source": [
    ".\\env\\Scripts\\activate"
   ]
  },
  {
   "cell_type": "markdown",
   "metadata": {},
   "source": [
    "- **macOS/Linux:**"
   ]
  },
  {
   "cell_type": "code",
   "execution_count": null,
   "metadata": {},
   "outputs": [],
   "source": [
    "source env/bin/activate"
   ]
  },
  {
   "cell_type": "markdown",
   "metadata": {},
   "source": [
    "## ✅ Step 3: Install `dinapy`\n",
    "\n",
    "### From Git (branch) — works in Jupyter or terminal\n",
    "If on Jupyter notebook, just run the cell below:"
   ]
  },
  {
   "cell_type": "code",
   "execution_count": null,
   "metadata": {},
   "outputs": [],
   "source": [
    "# Start clean: remove any previously installed dinapy\n",
    "%pip uninstall -y dinapy\n",
    "\n",
    "# Equivalent to your original, but more resilient parsing for extras:\n",
    "%pip install \"dinapy[notebook] @ git+https://github.com/AAFC-BICoE/dina-py.git@Support_36999_jupyter_notebook_test\""
   ]
  },
  {
   "cell_type": "markdown",
   "metadata": {},
   "source": [
    "## ✅ Step 4: Launch Jupyter Notebook\n",
    "\n",
    "You can now launch Jupyter Notebook server with the following command in your TERMINAL:"
   ]
  },
  {
   "cell_type": "code",
   "execution_count": null,
   "metadata": {},
   "outputs": [],
   "source": [
    "jupyter notebook"
   ]
  },
  {
   "cell_type": "markdown",
   "metadata": {},
   "source": [
    "## Import the Library\n",
    "\n",
    "Let's import the dina-py library here and check if it's working."
   ]
  },
  {
   "cell_type": "code",
   "execution_count": 8,
   "metadata": {},
   "outputs": [
    {
     "name": "stdout",
     "output_type": "stream",
     "text": [
      "dina-py successfully imported!\n",
      "Version: 0.1.0\n"
     ]
    }
   ],
   "source": [
    "# Import dina-py\n",
    "from importlib.metadata import version, PackageNotFoundError\n",
    "\n",
    "try:\n",
    "    import dinapy\n",
    "    print(f\"dina-py successfully imported!\")\n",
    "\n",
    "    try:\n",
    "        print(\"Version:\", version(\"dinapy\"))\n",
    "    except PackageNotFoundError:\n",
    "        print(\"Version: Unknown (package not installed)\")\n",
    "except ImportError as e:\n",
    "    print(f\"Error importing dina-py: {e}\")\n",
    "    print(\"Please install it using: pip install dina-py\")"
   ]
  },
  {
   "cell_type": "markdown",
   "metadata": {},
   "source": [
    "## Configuration\n",
    "\n",
    "Check DINA connection credentials from Environment variables."
   ]
  },
  {
   "cell_type": "code",
   "execution_count": null,
   "metadata": {},
   "outputs": [],
   "source": [
    "# Configuration variables checks\n",
    "DINA_BASE_URL = \"https://your-dina-instance.org\"  # Replace with your DINA instance URL\n",
    "\n",
    "print(\"Configuration set. Ready to connect to DINA.\")"
   ]
  },
  {
   "cell_type": "markdown",
   "metadata": {},
   "source": [
    "## Initialize DINA Client\n",
    "\n",
    "Create a DINA client instance to interact with the API."
   ]
  },
  {
   "cell_type": "code",
   "execution_count": null,
   "metadata": {},
   "outputs": [],
   "source": [
    "# Initialize the DINA client\n",
    "try:\n",
    "    client = dina.DinaClient(\n",
    "        base_url=DINA_BASE_URL,\n",
    "        username=USERNAME,\n",
    "        password=PASSWORD\n",
    "    )\n",
    "    print(\"DINA client initialized successfully!\")\n",
    "except Exception as e:\n",
    "    print(f\"Error initializing DINA client: {e}\")"
   ]
  },
  {
   "cell_type": "markdown",
   "metadata": {},
   "source": [
    "## Example: Query Data\n",
    "\n",
    "Let's try to query some data from DINA."
   ]
  },
  {
   "cell_type": "code",
   "execution_count": null,
   "metadata": {},
   "outputs": [],
   "source": [
    "# Example: Get a list of specimens\n",
    "try:\n",
    "    specimens = client.get_specimens(limit=10)\n",
    "    print(f\"Retrieved {len(specimens)} specimens:\")\n",
    "    for specimen in specimens:\n",
    "        print(f\"- {specimen}\")\n",
    "except Exception as e:\n",
    "    print(f\"Error retrieving specimens: {e}\")"
   ]
  },
  {
   "cell_type": "markdown",
   "metadata": {},
   "source": [
    "## Example: Search Functionality\n",
    "\n",
    "Perform a search query on DINA data."
   ]
  },
  {
   "cell_type": "code",
   "execution_count": null,
   "metadata": {},
   "outputs": [],
   "source": [
    "# Example: Search for specific records\n",
    "try:\n",
    "    search_term = \"example\"  # Replace with your search term\n",
    "    results = client.search(query=search_term)\n",
    "    print(f\"Search results for '{search_term}':\")\n",
    "    for result in results:\n",
    "        print(f\"- {result}\")\n",
    "except Exception as e:\n",
    "    print(f\"Error during search: {e}\")"
   ]
  },
  {
   "cell_type": "markdown",
   "metadata": {},
   "source": [
    "## Example: Create a New Record\n",
    "\n",
    "Create a new record in DINA (adjust according to your data model)."
   ]
  },
  {
   "cell_type": "code",
   "execution_count": null,
   "metadata": {},
   "outputs": [],
   "source": [
    "# Example: Create a new record\n",
    "try:\n",
    "    new_record = {\n",
    "        \"type\": \"specimen\",\n",
    "        \"attributes\": {\n",
    "            \"catalogNumber\": \"SPEC-12345\",\n",
    "            \"scientificName\": \"Example species\"\n",
    "        }\n",
    "    }\n",
    "    \n",
    "    created_record = client.create_record(new_record)\n",
    "    print(f\"Record created successfully: {created_record}\")\n",
    "except Exception as e:\n",
    "    print(f\"Error creating record: {e}\")"
   ]
  },
  {
   "cell_type": "markdown",
   "metadata": {},
   "source": [
    "## Example: Update a Record\n",
    "\n",
    "Update an existing record in DINA."
   ]
  },
  {
   "cell_type": "code",
   "execution_count": null,
   "metadata": {},
   "outputs": [],
   "source": [
    "# Example: Update a record\n",
    "try:\n",
    "    record_id = \"your-record-id\"  # Replace with actual record ID\n",
    "    updated_data = {\n",
    "        \"attributes\": {\n",
    "            \"notes\": \"Updated notes field\"\n",
    "        }\n",
    "    }\n",
    "    \n",
    "    updated_record = client.update_record(record_id, updated_data)\n",
    "    print(f\"Record updated successfully: {updated_record}\")\n",
    "except Exception as e:\n",
    "    print(f\"Error updating record: {e}\")"
   ]
  },
  {
   "cell_type": "markdown",
   "metadata": {},
   "source": [
    "## Helper Functions\n",
    "\n",
    "Here are some helper functions that might be useful when working with dina-py."
   ]
  },
  {
   "cell_type": "code",
   "execution_count": null,
   "metadata": {},
   "outputs": [],
   "source": [
    "import pandas as pd\n",
    "import json\n",
    "\n",
    "def display_records_as_dataframe(records):\n",
    "    \"\"\"Convert DINA records to a pandas DataFrame for easier viewing\"\"\"\n",
    "    if not records:\n",
    "        print(\"No records to display\")\n",
    "        return None\n",
    "    \n",
    "    df = pd.DataFrame(records)\n",
    "    return df\n",
    "\n",
    "def pretty_print_json(data):\n",
    "    \"\"\"Pretty print JSON data\"\"\"\n",
    "    print(json.dumps(data, indent=2))\n",
    "\n",
    "print(\"Helper functions loaded!\")"
   ]
  },
  {
   "cell_type": "markdown",
   "metadata": {},
   "source": [
    "## Your Custom Code\n",
    "\n",
    "Use the cells below to write your own code using dina-py."
   ]
  },
  {
   "cell_type": "code",
   "execution_count": null,
   "metadata": {},
   "outputs": [],
   "source": [
    "# Your code here\n"
   ]
  },
  {
   "cell_type": "markdown",
   "metadata": {},
   "source": [
    "## Resources\n",
    "\n",
    "- [DINA Documentation](https://dina-project.github.io/)\n",
    "- [dina-py GitHub Repository](https://github.com/DINA-Web/dina-py)\n",
    "- [DINA API Documentation](https://api.dina-project.net/)\n",
    "\n",
    "## Notes\n",
    "\n",
    "- Make sure to replace placeholder values with your actual DINA instance credentials\n",
    "- The exact methods and parameters may vary depending on the version of dina-py you're using\n",
    "- Always refer to the official documentation for the most up-to-date information\n",
    "- Be careful with credentials - consider using environment variables for sensitive information"
   ]
  }
 ],
 "metadata": {
  "kernelspec": {
   "display_name": "jupyterenv",
   "language": "python",
   "name": "python3"
  },
  "language_info": {
   "codemirror_mode": {
    "name": "ipython",
    "version": 3
   },
   "file_extension": ".py",
   "mimetype": "text/x-python",
   "name": "python",
   "nbconvert_exporter": "python",
   "pygments_lexer": "ipython3",
   "version": "3.13.5"
  }
 },
 "nbformat": 4,
 "nbformat_minor": 4
}
